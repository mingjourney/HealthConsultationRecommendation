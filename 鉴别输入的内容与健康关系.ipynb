{
 "cells": [
  {
   "cell_type": "code",
   "execution_count": 48,
   "metadata": {},
   "outputs": [
    {
     "name": "stdout",
     "output_type": "stream",
     "text": [
      "分类报告：\n",
      "               precision    recall  f1-score   support\n",
      "\n",
      "          健康       0.00      0.00      0.00         4\n",
      "        健康健身       0.49      1.00      0.66        19\n",
      "          其他       1.00      0.06      0.11        17\n",
      "\n",
      "    accuracy                           0.50        40\n",
      "   macro avg       0.50      0.35      0.26        40\n",
      "weighted avg       0.66      0.50      0.36        40\n",
      "\n",
      "混淆矩阵：\n",
      " [[ 0  4  0]\n",
      " [ 0 19  0]\n",
      " [ 0 16  1]]\n",
      "准确率：\n",
      " 0.5\n",
      "预测的分类: 健康健身\n"
     ]
    },
    {
     "name": "stderr",
     "output_type": "stream",
     "text": [
      "/Users/gujiaming/opt/anaconda3/envs/py38/lib/python3.8/site-packages/sklearn/metrics/_classification.py:1344: UndefinedMetricWarning: Precision and F-score are ill-defined and being set to 0.0 in labels with no predicted samples. Use `zero_division` parameter to control this behavior.\n",
      "  _warn_prf(average, modifier, msg_start, len(result))\n",
      "/Users/gujiaming/opt/anaconda3/envs/py38/lib/python3.8/site-packages/sklearn/metrics/_classification.py:1344: UndefinedMetricWarning: Precision and F-score are ill-defined and being set to 0.0 in labels with no predicted samples. Use `zero_division` parameter to control this behavior.\n",
      "  _warn_prf(average, modifier, msg_start, len(result))\n",
      "/Users/gujiaming/opt/anaconda3/envs/py38/lib/python3.8/site-packages/sklearn/metrics/_classification.py:1344: UndefinedMetricWarning: Precision and F-score are ill-defined and being set to 0.0 in labels with no predicted samples. Use `zero_division` parameter to control this behavior.\n",
      "  _warn_prf(average, modifier, msg_start, len(result))\n"
     ]
    }
   ],
   "source": [
    "import pandas as pd\n",
    "from sklearn.feature_extraction.text import CountVectorizer\n",
    "from sklearn.feature_extraction.text import TfidfTransformer\n",
    "from sklearn.model_selection import train_test_split\n",
    "from sklearn.naive_bayes import MultinomialNB\n",
    "from sklearn.metrics import classification_report, confusion_matrix, accuracy_score\n",
    "\n",
    "# 读取数据\n",
    "data = pd.read_csv('data.csv')\n",
    "\n",
    "# 数据预处理\n",
    "data['text'] = data['text'].apply(lambda x: ' '.join(x.split()))\n",
    "\n",
    "# 划分训练集和测试集\n",
    "X_train, X_test, y_train, y_test = train_test_split(data['text'], data['category'], test_size=0.2, random_state=42)\n",
    "\n",
    "# 文本特征提取\n",
    "vectorizer = CountVectorizer()\n",
    "tf_transformer = TfidfTransformer()\n",
    "\n",
    "X_train_counts = vectorizer.fit_transform(X_train)\n",
    "X_train_tfidf = tf_transformer.fit_transform(X_train_counts)\n",
    "\n",
    "# 训练分类器\n",
    "clf = MultinomialNB().fit(X_train_tfidf, y_train)\n",
    "\n",
    "# 预测测试集\n",
    "X_test_counts = vectorizer.transform(X_test)\n",
    "X_test_tfidf = tf_transformer.transform(X_test_counts)\n",
    "y_pred = clf.predict(X_test_tfidf)\n",
    "\n",
    "# 评估模型性能\n",
    "print(\"分类报告：\\n\", classification_report(y_test, y_pred))\n",
    "print(\"混淆矩阵：\\n\", confusion_matrix(y_test, y_pred))\n",
    "print(\"准确率：\\n\", accuracy_score(y_test, y_pred))\n",
    "\n",
    "# 预测新文本\n",
    "def predict_new_text(text):\n",
    "    preprocessed_text = ' '.join(text.split())\n",
    "    text_counts = vectorizer.transform([preprocessed_text])\n",
    "    text_tfidf = tf_transformer.transform(text_counts)\n",
    "    predicted_category = clf.predict(text_tfidf)\n",
    "    return predicted_category[0]\n",
    "\n",
    "new_text = \"你好\"\n",
    "predicted_category = predict_new_text(new_text)\n",
    "print(\"预测的分类:\", predicted_category)\n"
   ]
  },
  {
   "cell_type": "code",
   "execution_count": null,
   "metadata": {},
   "outputs": [],
   "source": []
  }
 ],
 "metadata": {
  "kernelspec": {
   "display_name": "py38",
   "language": "python",
   "name": "python3"
  },
  "language_info": {
   "codemirror_mode": {
    "name": "ipython",
    "version": 3
   },
   "file_extension": ".py",
   "mimetype": "text/x-python",
   "name": "python",
   "nbconvert_exporter": "python",
   "pygments_lexer": "ipython3",
   "version": "3.8.8"
  },
  "orig_nbformat": 4
 },
 "nbformat": 4,
 "nbformat_minor": 2
}
