{
 "cells": [
  {
   "cell_type": "code",
   "execution_count": 5,
   "metadata": {},
   "outputs": [
    {
     "ename": "ValueError",
     "evalue": "too many values to unpack (expected 2)",
     "output_type": "error",
     "traceback": [
      "\u001b[0;31m---------------------------------------------------------------------------\u001b[0m",
      "\u001b[0;31mValueError\u001b[0m                                Traceback (most recent call last)",
      "Cell \u001b[0;32mIn[5], line 31\u001b[0m\n\u001b[1;32m     28\u001b[0m dot\u001b[39m.\u001b[39mnode(\u001b[39m'\u001b[39m\u001b[39mend\u001b[39m\u001b[39m'\u001b[39m, \u001b[39m'\u001b[39m\u001b[39m结束\u001b[39m\u001b[39m'\u001b[39m)\n\u001b[1;32m     30\u001b[0m \u001b[39m# 添加边\u001b[39;00m\n\u001b[0;32m---> 31\u001b[0m dot\u001b[39m.\u001b[39;49medges([\u001b[39m'\u001b[39;49m\u001b[39mstart->register\u001b[39;49m\u001b[39m'\u001b[39;49m, \u001b[39m'\u001b[39;49m\u001b[39mregister->verify\u001b[39;49m\u001b[39m'\u001b[39;49m, \u001b[39m'\u001b[39;49m\u001b[39mverify->complete\u001b[39;49m\u001b[39m'\u001b[39;49m, \u001b[39m'\u001b[39;49m\u001b[39mstart->login\u001b[39;49m\u001b[39m'\u001b[39;49m, \u001b[39m'\u001b[39;49m\u001b[39mlogin->authenticate\u001b[39;49m\u001b[39m'\u001b[39;49m, \u001b[39m'\u001b[39;49m\u001b[39mauthenticate->dashboard\u001b[39;49m\u001b[39m'\u001b[39;49m, \u001b[39m'\u001b[39;49m\u001b[39mstart->browse\u001b[39;49m\u001b[39m'\u001b[39;49m, \u001b[39m'\u001b[39;49m\u001b[39mbrowse->view_product\u001b[39;49m\u001b[39m'\u001b[39;49m, \u001b[39m'\u001b[39;49m\u001b[39mview_product->add_to_cart\u001b[39;49m\u001b[39m'\u001b[39;49m, \u001b[39m'\u001b[39;49m\u001b[39mstart->view_cart\u001b[39;49m\u001b[39m'\u001b[39;49m, \u001b[39m'\u001b[39;49m\u001b[39mview_cart->checkout\u001b[39;49m\u001b[39m'\u001b[39;49m, \u001b[39m'\u001b[39;49m\u001b[39mcheckout->payment\u001b[39;49m\u001b[39m'\u001b[39;49m, \u001b[39m'\u001b[39;49m\u001b[39mpayment->order_placed\u001b[39;49m\u001b[39m'\u001b[39;49m, \u001b[39m'\u001b[39;49m\u001b[39mstart->view_orders\u001b[39;49m\u001b[39m'\u001b[39;49m, \u001b[39m'\u001b[39;49m\u001b[39mview_orders->process\u001b[39;49m\u001b[39m'\u001b[39;49m, \u001b[39m'\u001b[39;49m\u001b[39mprocess->ship\u001b[39;49m\u001b[39m'\u001b[39;49m, \u001b[39m'\u001b[39;49m\u001b[39mship->delivered\u001b[39;49m\u001b[39m'\u001b[39;49m, \u001b[39m'\u001b[39;49m\u001b[39mstart->submit_feedback\u001b[39;49m\u001b[39m'\u001b[39;49m, \u001b[39m'\u001b[39;49m\u001b[39msubmit_feedback->review_feedback\u001b[39;49m\u001b[39m'\u001b[39;49m, \u001b[39m'\u001b[39;49m\u001b[39mreview_feedback->respond\u001b[39;49m\u001b[39m'\u001b[39;49m, \u001b[39m'\u001b[39;49m\u001b[39mrespond->end\u001b[39;49m\u001b[39m'\u001b[39;49m])\n\u001b[1;32m     33\u001b[0m \u001b[39m# 渲染并保存图像\u001b[39;00m\n\u001b[1;32m     34\u001b[0m dot\u001b[39m.\u001b[39mformat \u001b[39m=\u001b[39m \u001b[39m'\u001b[39m\u001b[39mpng\u001b[39m\u001b[39m'\u001b[39m\n",
      "File \u001b[0;32m~/opt/anaconda3/envs/py38/lib/python3.8/site-packages/graphviz/dot.py:242\u001b[0m, in \u001b[0;36mDot.edges\u001b[0;34m(self, tail_head_iter)\u001b[0m\n\u001b[1;32m    240\u001b[0m edge \u001b[39m=\u001b[39m \u001b[39mself\u001b[39m\u001b[39m.\u001b[39m_edge_plain\n\u001b[1;32m    241\u001b[0m quote \u001b[39m=\u001b[39m \u001b[39mself\u001b[39m\u001b[39m.\u001b[39m_quote_edge\n\u001b[0;32m--> 242\u001b[0m \u001b[39mself\u001b[39m\u001b[39m.\u001b[39mbody \u001b[39m+\u001b[39m\u001b[39m=\u001b[39m [edge(tail\u001b[39m=\u001b[39mquote(t), head\u001b[39m=\u001b[39mquote(h))\n\u001b[1;32m    243\u001b[0m               \u001b[39mfor\u001b[39;00m t, h \u001b[39min\u001b[39;00m tail_head_iter]\n",
      "File \u001b[0;32m~/opt/anaconda3/envs/py38/lib/python3.8/site-packages/graphviz/dot.py:243\u001b[0m, in \u001b[0;36m<listcomp>\u001b[0;34m(.0)\u001b[0m\n\u001b[1;32m    240\u001b[0m edge \u001b[39m=\u001b[39m \u001b[39mself\u001b[39m\u001b[39m.\u001b[39m_edge_plain\n\u001b[1;32m    241\u001b[0m quote \u001b[39m=\u001b[39m \u001b[39mself\u001b[39m\u001b[39m.\u001b[39m_quote_edge\n\u001b[1;32m    242\u001b[0m \u001b[39mself\u001b[39m\u001b[39m.\u001b[39mbody \u001b[39m+\u001b[39m\u001b[39m=\u001b[39m [edge(tail\u001b[39m=\u001b[39mquote(t), head\u001b[39m=\u001b[39mquote(h))\n\u001b[0;32m--> 243\u001b[0m               \u001b[39mfor\u001b[39;00m t, h \u001b[39min\u001b[39;00m tail_head_iter]\n",
      "\u001b[0;31mValueError\u001b[0m: too many values to unpack (expected 2)"
     ]
    }
   ],
   "source": [
    "from graphviz import Digraph\n",
    "\n",
    "# 创建有向图\n",
    "dot = Digraph(comment='功能流程图')\n",
    "\n",
    "# 添加节点\n",
    "dot.node('start', '开始')\n",
    "dot.node('register', '填写注册信息')\n",
    "dot.node('verify', '验证信息')\n",
    "dot.node('complete', '注册完成')\n",
    "dot.node('login', '填写登录信息')\n",
    "dot.node('authenticate', '验证信息')\n",
    "dot.node('dashboard', '进入仪表盘')\n",
    "dot.node('browse', '浏览商品列表')\n",
    "dot.node('view_product', '查看商品详情')\n",
    "dot.node('add_to_cart', '添加到购物车')\n",
    "dot.node('view_cart', '查看购物车')\n",
    "dot.node('checkout', '结算')\n",
    "dot.node('payment', '支付')\n",
    "dot.node('order_placed', '下单成功')\n",
    "dot.node('view_orders', '查看订单')\n",
    "dot.node('process', '处理订单')\n",
    "dot.node('ship', '发货')\n",
    "dot.node('delivered', '已送达')\n",
    "dot.node('submit_feedback', '提交反馈')\n",
    "dot.node('review_feedback', '查看反馈')\n",
    "dot.node('respond', '回复用户')\n",
    "dot.node('end', '结束')\n",
    "\n",
    "# 添加边\n",
    "dot.edges(['start->register', 'register->verify', 'verify->complete', 'start->login', 'login->authenticate', 'authenticate->dashboard', 'start->browse', 'browse->view_product', 'view_product->add_to_cart', 'start->view_cart', 'view_cart->checkout', 'checkout->payment', 'payment->order_placed', 'start->view_orders', 'view_orders->process', 'process->ship', 'ship->delivered', 'start->submit_feedback', 'submit_feedback->review_feedback', 'review_feedback->respond', 'respond->end'])\n",
    "\n",
    "# 渲染并保存图像\n",
    "dot.format = 'png'\n",
    "dot.render('ecommerce_app_flowchart', view=True)\n"
   ]
  },
  {
   "cell_type": "code",
   "execution_count": null,
   "metadata": {},
   "outputs": [],
   "source": []
  }
 ],
 "metadata": {
  "kernelspec": {
   "display_name": "py38",
   "language": "python",
   "name": "python3"
  },
  "language_info": {
   "codemirror_mode": {
    "name": "ipython",
    "version": 3
   },
   "file_extension": ".py",
   "mimetype": "text/x-python",
   "name": "python",
   "nbconvert_exporter": "python",
   "pygments_lexer": "ipython3",
   "version": "3.8.8"
  },
  "orig_nbformat": 4
 },
 "nbformat": 4,
 "nbformat_minor": 2
}
