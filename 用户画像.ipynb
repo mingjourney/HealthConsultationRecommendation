{
 "cells": [
  {
   "cell_type": "code",
   "execution_count": 2,
   "metadata": {},
   "outputs": [],
   "source": []
  },
  {
   "cell_type": "code",
   "execution_count": 1,
   "metadata": {},
   "outputs": [
    {
     "ename": "NameError",
     "evalue": "name 'get_movie_dataset' is not defined",
     "output_type": "error",
     "traceback": [
      "\u001b[0;31m---------------------------------------------------------------------------\u001b[0m",
      "\u001b[0;31mNameError\u001b[0m                                 Traceback (most recent call last)",
      "Cell \u001b[0;32mIn[1], line 40\u001b[0m\n\u001b[1;32m     36\u001b[0m         user_profile[uid] \u001b[39m=\u001b[39m interest_words\n\u001b[1;32m     38\u001b[0m     \u001b[39mreturn\u001b[39;00m user_profile\n\u001b[0;32m---> 40\u001b[0m user_profile \u001b[39m=\u001b[39m create_user_profile()\n\u001b[1;32m     41\u001b[0m pprint(user_profile)\n",
      "Cell \u001b[0;32mIn[1], line 25\u001b[0m, in \u001b[0;36mcreate_user_profile\u001b[0;34m()\u001b[0m\n\u001b[1;32m     22\u001b[0m watch_record \u001b[39m=\u001b[39m watch_record\u001b[39m.\u001b[39mgroupby(\u001b[39m\"\u001b[39m\u001b[39muserId\u001b[39m\u001b[39m\"\u001b[39m)\u001b[39m.\u001b[39magg(\u001b[39mlist\u001b[39m)\n\u001b[1;32m     23\u001b[0m \u001b[39m# print(watch_record)\u001b[39;00m\n\u001b[0;32m---> 25\u001b[0m movie_dataset \u001b[39m=\u001b[39m get_movie_dataset()\n\u001b[1;32m     26\u001b[0m movie_profile \u001b[39m=\u001b[39m create_movie_profile(movie_dataset)\n\u001b[1;32m     28\u001b[0m user_profile \u001b[39m=\u001b[39m {}\n",
      "\u001b[0;31mNameError\u001b[0m: name 'get_movie_dataset' is not defined"
     ]
    }
   ],
   "source": [
    "import pandas as pd\n",
    "import numpy as np\n",
    "from gensim.models import TfidfModel\n",
    "\n",
    "from functools import reduce\n",
    "import collections\n",
    "\n",
    "from pprint import pprint\n",
    "\n",
    "# ......\n",
    "\n",
    "'''\n",
    "user profile画像建立：\n",
    "1. 提取用户观看列表\n",
    "2. 根据观看列表和物品画像为用户匹配关键词，并统计词频\n",
    "3. 根据词频排序，最多保留TOP-k个词，这里K设为100，作为用户的标签\n",
    "'''\n",
    "\n",
    "def create_user_profile():\n",
    "    watch_record = pd.read_csv(\"datasets/ml-latest-small/ratings.csv\", usecols=range(2), dtype={\"userId\":np.int32, \"movieId\": np.int32})\n",
    "\n",
    "    watch_record = watch_record.groupby(\"userId\").agg(list)\n",
    "    # print(watch_record)\n",
    "\n",
    "    movie_dataset = get_movie_dataset()\n",
    "    movie_profile = create_movie_profile(movie_dataset)\n",
    "\n",
    "    user_profile = {}\n",
    "    for uid, mids in watch_record.itertuples():\n",
    "        record_movie_prifole = movie_profile.loc[list(mids)]\n",
    "        counter = collections.Counter(reduce(lambda x, y: list(x)+list(y), record_movie_prifole[\"profile\"].values))\n",
    "        # 兴趣词\n",
    "        interest_words = counter.most_common(50)\n",
    "        maxcount = interest_words[0][1]\n",
    "        interest_words = [(w,round(c/maxcount, 4)) for w,c in interest_words]\n",
    "        user_profile[uid] = interest_words\n",
    "\n",
    "    return user_profile\n",
    "\n",
    "user_profile = create_user_profile()\n",
    "pprint(user_profile)"
   ]
  },
  {
   "cell_type": "code",
   "execution_count": null,
   "metadata": {},
   "outputs": [],
   "source": []
  }
 ],
 "metadata": {
  "kernelspec": {
   "display_name": "py38",
   "language": "python",
   "name": "python3"
  },
  "language_info": {
   "codemirror_mode": {
    "name": "ipython",
    "version": 3
   },
   "file_extension": ".py",
   "mimetype": "text/x-python",
   "name": "python",
   "nbconvert_exporter": "python",
   "pygments_lexer": "ipython3",
   "version": "3.8.8"
  },
  "orig_nbformat": 4
 },
 "nbformat": 4,
 "nbformat_minor": 2
}
